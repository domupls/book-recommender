{
 "cells": [
  {
   "metadata": {},
   "cell_type": "markdown",
   "source": "# Setup",
   "id": "5a474b05e71b5065"
  },
  {
   "cell_type": "code",
   "id": "initial_id",
   "metadata": {
    "collapsed": true,
    "ExecuteTime": {
     "end_time": "2025-08-16T13:25:00.839919Z",
     "start_time": "2025-08-16T13:24:56.576670Z"
    }
   },
   "source": [
    "import pandas as pd\n",
    "import numpy as np\n",
    "from tqdm import tqdm\n",
    "\n",
    "from transformers import pipeline"
   ],
   "outputs": [],
   "execution_count": 1
  },
  {
   "metadata": {
    "ExecuteTime": {
     "end_time": "2025-08-16T13:25:01.001806Z",
     "start_time": "2025-08-16T13:25:00.863750Z"
    }
   },
   "cell_type": "code",
   "source": "books = pd.read_csv('data/books_with_categories.csv')",
   "id": "2cdbff837fde77a5",
   "outputs": [],
   "execution_count": 2
  },
  {
   "metadata": {},
   "cell_type": "markdown",
   "source": "# Sentiment Analysis",
   "id": "d3d7b0fef4fc2f87"
  },
  {
   "metadata": {
    "ExecuteTime": {
     "end_time": "2025-08-16T13:25:10.143748Z",
     "start_time": "2025-08-16T13:25:08.789721Z"
    }
   },
   "cell_type": "code",
   "source": "classifier = pipeline(\"text-classification\", model=\"j-hartmann/emotion-english-distilroberta-base\", device='mps', top_k=None)",
   "id": "973b1f29c4ea896a",
   "outputs": [
    {
     "name": "stderr",
     "output_type": "stream",
     "text": [
      "Device set to use mps\n"
     ]
    }
   ],
   "execution_count": 3
  },
  {
   "metadata": {
    "ExecuteTime": {
     "end_time": "2025-08-15T19:49:42.596492Z",
     "start_time": "2025-08-15T19:49:42.528994Z"
    }
   },
   "cell_type": "code",
   "source": "classifier(books['description'][0])[0][0]",
   "id": "8014cd941f2ac68e",
   "outputs": [
    {
     "data": {
      "text/plain": [
       "{'label': 'fear', 'score': 0.6548408269882202}"
      ]
     },
     "execution_count": 20,
     "metadata": {},
     "output_type": "execute_result"
    }
   ],
   "execution_count": 20
  },
  {
   "metadata": {
    "ExecuteTime": {
     "end_time": "2025-08-16T13:55:42.879358Z",
     "start_time": "2025-08-16T13:55:42.876199Z"
    }
   },
   "cell_type": "code",
   "source": [
    "def split_text(text: str) -> list[str]:\n",
    "    return text.split('. ')"
   ],
   "id": "26dbcffe9f6664be",
   "outputs": [],
   "execution_count": 14
  },
  {
   "metadata": {
    "ExecuteTime": {
     "end_time": "2025-08-16T13:55:44.038141Z",
     "start_time": "2025-08-16T13:55:44.032569Z"
    }
   },
   "cell_type": "code",
   "source": [
    "s = split_text(books['description'][0])\n",
    "s"
   ],
   "id": "819b26d8ba7a7bdb",
   "outputs": [
    {
     "data": {
      "text/plain": [
       "['A NOVEL THAT READERS and critics have been eagerly anticipating for over a decade, Gilead is an astonishingly imagined story of remarkable lives',\n",
       " 'John Ames is a preacher, the son of a preacher and the grandson (both maternal and paternal) of preachers',\n",
       " 'It’s 1956 in Gilead, Iowa, towards the end of the Reverend Ames’s life, and he is absorbed in recording his family’s story, a legacy for the young son he will never see grow up',\n",
       " 'Haunted by his grandfather’s presence, John tells of the rift between his grandfather and his father: the elder, an angry visionary who fought for the abolitionist cause, and his son, an ardent pacifist',\n",
       " 'He is troubled, too, by his prodigal namesake, Jack (John Ames) Boughton, his best friend’s lost son who returns to Gilead searching for forgiveness and redemption',\n",
       " 'Told in John Ames’s joyous, rambling voice that finds beauty, humour and truth in the smallest of life’s details, Gilead is a song of celebration and acceptance of the best and the worst the world has to offer',\n",
       " 'At its heart is a tale of the sacred bonds between fathers and sons, pitch-perfect in style and story, set to dazzle critics and readers alike.']"
      ]
     },
     "execution_count": 15,
     "metadata": {},
     "output_type": "execute_result"
    }
   ],
   "execution_count": 15
  },
  {
   "metadata": {
    "ExecuteTime": {
     "end_time": "2025-08-16T13:56:03.266888Z",
     "start_time": "2025-08-16T13:56:02.900414Z"
    }
   },
   "cell_type": "code",
   "source": "predictions = classifier(s)",
   "id": "95581a07b4dec77c",
   "outputs": [],
   "execution_count": 16
  },
  {
   "metadata": {
    "ExecuteTime": {
     "end_time": "2025-08-16T13:25:23.731928Z",
     "start_time": "2025-08-16T13:25:23.729085Z"
    }
   },
   "cell_type": "code",
   "source": [
    "emotion_labels = ['anger', 'disgust', 'fear', 'joy', 'neutral', 'sadness', 'surprise']\n",
    "isbn = []\n",
    "emotion_score = {label: [] for label in emotion_labels}"
   ],
   "id": "325644c228ee8d7c",
   "outputs": [],
   "execution_count": 5
  },
  {
   "metadata": {
    "ExecuteTime": {
     "end_time": "2025-08-16T13:58:31.295164Z",
     "start_time": "2025-08-16T13:58:31.288908Z"
    }
   },
   "cell_type": "code",
   "source": [
    "def calculate_max_emotion_scores(predictions_list: list[dict]) -> dict:\n",
    "    max_scores = {label: [] for label in emotion_labels}\n",
    "    for prediction in predictions_list:\n",
    "        sorted_prediction = sorted(prediction, key=lambda x: x[\"label\"])\n",
    "        for idx, label in enumerate(emotion_labels):\n",
    "            max_scores[label].append(sorted_prediction[idx][\"score\"])\n",
    "    return {label: np.max(scores) for label, scores in max_scores.items()}\n"
   ],
   "id": "966add9af4fa3367",
   "outputs": [],
   "execution_count": 19
  },
  {
   "metadata": {
    "ExecuteTime": {
     "end_time": "2025-08-16T14:23:50.474105Z",
     "start_time": "2025-08-16T14:23:50.471619Z"
    }
   },
   "cell_type": "code",
   "source": [
    "def calculate_max_score(predictions_list: list[dict]) -> dict:\n",
    "    max_scores = {label: -np.inf for label in emotion_labels}\n",
    "    for prediction in predictions_list:\n",
    "        for label_score in prediction:\n",
    "            label, score = label_score['label'], label_score['score']\n",
    "            if score > max_scores[label]:\n",
    "                max_scores[label] = score\n",
    "    return max_scores"
   ],
   "id": "f16ea23c28be9036",
   "outputs": [],
   "execution_count": 54
  },
  {
   "metadata": {
    "ExecuteTime": {
     "end_time": "2025-08-16T13:31:13.046626Z",
     "start_time": "2025-08-16T13:25:26.256066Z"
    }
   },
   "cell_type": "code",
   "source": [
    "for i in tqdm(range(len(books))):\n",
    "    isbn.append(books['isbn13'][i])\n",
    "    sentences = split_text(books['description'][i])\n",
    "    predictions = classifier(sentences)\n",
    "    ms = calculate_max_score(predictions)\n",
    "    for l in emotion_labels:\n",
    "        emotion_score[l].append(ms[l])"
   ],
   "id": "3574c5a03b3577f7",
   "outputs": [
    {
     "name": "stderr",
     "output_type": "stream",
     "text": [
      "100%|██████████| 5197/5197 [05:46<00:00, 14.99it/s]\n"
     ]
    }
   ],
   "execution_count": 7
  },
  {
   "metadata": {
    "ExecuteTime": {
     "end_time": "2025-08-16T13:31:13.107895Z",
     "start_time": "2025-08-16T13:31:13.080656Z"
    }
   },
   "cell_type": "code",
   "source": [
    "emotions_df = pd.DataFrame(emotion_score)\n",
    "emotions_df['isbn13'] = isbn\n",
    "books = pd.merge(books, emotions_df, on='isbn13')"
   ],
   "id": "98dc0238c79e338e",
   "outputs": [],
   "execution_count": 8
  },
  {
   "metadata": {
    "ExecuteTime": {
     "end_time": "2025-08-16T14:25:46.781218Z",
     "start_time": "2025-08-16T14:25:46.631294Z"
    }
   },
   "cell_type": "code",
   "source": "books.to_csv('data/books_with_emotions.csv', index=False)",
   "id": "c6ee015e0d04d39e",
   "outputs": [],
   "execution_count": 59
  }
 ],
 "metadata": {
  "kernelspec": {
   "display_name": "Python 3",
   "language": "python",
   "name": "python3"
  },
  "language_info": {
   "codemirror_mode": {
    "name": "ipython",
    "version": 2
   },
   "file_extension": ".py",
   "mimetype": "text/x-python",
   "name": "python",
   "nbconvert_exporter": "python",
   "pygments_lexer": "ipython2",
   "version": "2.7.6"
  }
 },
 "nbformat": 4,
 "nbformat_minor": 5
}
